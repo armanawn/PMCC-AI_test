{
 "cells": [
  {
   "cell_type": "markdown",
   "metadata": {},
   "source": [
    "# Suppmentary Analysis"
   ]
  },
  {
   "cell_type": "markdown",
   "metadata": {},
   "source": [
    "The following code is a supplementary analysis done on cell specific DHS data (K562 as cancerous and as GM12878 healthy cell types). The aim was to use only non-sequence data on DHS peaks, e.g. relative position, width, mean signal, and derived features.\n",
    "\n",
    "Training an XGBboost classifier on the following dataset suggests that non-sequence DHS data could also be the carrier of some relevant information that could, albeit weakly, separate healthy and cancerous cells. The feature importance analysis seems to show that signal strength is an important feature in separating the two categories of cells, hinting that adding signal strength and other positional variables to a sequence model could enhance model accuracy and provide novel insight.\n",
    "\n",
    "Please note that this analsysis is by no means complete and conclusive work, and a significant amount of follow-up work needs to be done to validate the results here."
   ]
  },
  {
   "cell_type": "code",
   "execution_count": 10,
   "metadata": {},
   "outputs": [],
   "source": [
    "import pandas as pd\n",
    "import numpy as np\n",
    "from sklearn.model_selection import train_test_split, GridSearchCV\n",
    "from sklearn.preprocessing import StandardScaler\n",
    "from sklearn.compose import ColumnTransformer\n",
    "from sklearn.pipeline import Pipeline\n",
    "from xgboost import XGBClassifier\n",
    "from sklearn.metrics import classification_report, accuracy_score, roc_auc_score\n",
    "import matplotlib.pyplot as plt\n",
    "\n",
    "# Load the dataset\n",
    "df = pd.read_feather('data.ftr')\n",
    "\n",
    "\n",
    "# Feature engineering\n",
    "df['DHS_width'] = df['end'] - df['start']\n",
    "df['peak_sharpness'] = df['mean_signal'] / df['DHS_width']\n",
    "df['relative_summit_position'] = (df['summit'] - df['start']) / df['DHS_width']\n",
    "df['signal_variability'] = df['mean_signal'] / df['numsamples']\n",
    "df['total_accessibility'] = df['mean_signal'] * df['DHS_width']\n",
    "df['per_sample_signal_strength'] = df['mean_signal'] / df['numsamples']\n",
    "\n",
    "# Define features and target (excluding 'component')\n",
    "features = ['DHS_width', 'summit', 'mean_signal',\n",
    "            'peak_sharpness', 'relative_summit_position', 'signal_variability',\n",
    "            'total_accessibility', 'per_sample_signal_strength',\n",
    "]\n",
    "target = 'is_cancer'  # Replace with your actual target column name\n",
    "\n",
    "# Data preprocessing and encoding\n",
    "numeric_features = features\n",
    "\n",
    "# Preprocessing for numerical data\n",
    "numeric_transformer = Pipeline(steps=[\n",
    "    ('scaler', StandardScaler())\n",
    "])\n",
    "\n",
    "# Bundle preprocessing for numeric data only\n",
    "preprocessor = ColumnTransformer(\n",
    "    transformers=[\n",
    "        ('num', numeric_transformer, numeric_features)\n",
    "    ])\n",
    "\n",
    "# Define the model\n",
    "xgb = XGBClassifier(random_state=42)\n",
    "\n",
    "# Create and evaluate the pipeline\n",
    "pipeline = Pipeline(steps=[('preprocessor', preprocessor),\n",
    "                           ('classifier', xgb)])\n",
    "\n",
    "# Split data into train and test sets\n",
    "X = df[features]\n",
    "y = df[target]\n",
    "X_train, X_test, y_train, y_test = train_test_split(X, y, test_size=0.2, random_state=42)"
   ]
  },
  {
   "cell_type": "code",
   "execution_count": 16,
   "metadata": {},
   "outputs": [
    {
     "name": "stderr",
     "output_type": "stream",
     "text": [
      "RandomizedSearchCV Progress: 100%|██████████| 30/30 [04:37<00:00,  9.27s/it]"
     ]
    },
    {
     "name": "stdout",
     "output_type": "stream",
     "text": [
      "Best parameters found:  {'classifier__colsample_bytree': 0.731800950559731, 'classifier__gamma': 0.060515760700618856, 'classifier__learning_rate': 0.1801950831779687, 'classifier__max_depth': 3, 'classifier__min_child_weight': 4, 'classifier__n_estimators': 195, 'classifier__subsample': 0.8086548259278382}\n",
      "Classification report:\n",
      "               precision    recall  f1-score   support\n",
      "\n",
      "           0       0.64      0.73      0.68      3009\n",
      "           1       0.67      0.57      0.62      2921\n",
      "\n",
      "    accuracy                           0.65      5930\n",
      "   macro avg       0.65      0.65      0.65      5930\n",
      "weighted avg       0.65      0.65      0.65      5930\n",
      "\n",
      "Accuracy:  0.6510961214165262\n",
      "ROC AUC:  0.7212869550654212\n"
     ]
    },
    {
     "name": "stderr",
     "output_type": "stream",
     "text": [
      "\n"
     ]
    }
   ],
   "source": [
    "from sklearn.model_selection import RandomizedSearchCV\n",
    "from scipy.stats import uniform, randint\n",
    "from tqdm import tqdm\n",
    "import numpy as np\n",
    "\n",
    "param_dist = {\n",
    "    'classifier__n_estimators': randint(100, 300),\n",
    "    'classifier__learning_rate': uniform(0.01, 0.19),  # 0.01 to 0.2\n",
    "    'classifier__max_depth': randint(3, 8),  # 3 to 7\n",
    "    'classifier__colsample_bytree': uniform(0.6, 0.3),  # 0.6 to 0.9\n",
    "    'classifier__subsample': uniform(0.6, 0.3),  # 0.6 to 0.9\n",
    "    'classifier__min_child_weight': randint(1, 6),  # 1 to 5\n",
    "    'classifier__gamma': uniform(0, 0.3)  # 0 to 0.3\n",
    "}\n",
    "\n",
    "# Number of iterations to sample\n",
    "n_iter_search = 30\n",
    "\n",
    "# Initialize progress bar\n",
    "tqdm_bar = tqdm(total=n_iter_search, desc=\"RandomizedSearchCV Progress\", position=0, leave=True)\n",
    "\n",
    "class TQDMProgressBar:\n",
    "    def __init__(self, tqdm_bar):\n",
    "        self.tqdm_bar = tqdm_bar\n",
    "\n",
    "    def __call__(self, *args, **kwargs):\n",
    "        self.tqdm_bar.update(1)\n",
    "\n",
    "# Create RandomizedSearchCV instance with a custom callback to update tqdm\n",
    "random_search = RandomizedSearchCV(pipeline, param_distributions=param_dist,\n",
    "                                   n_iter=n_iter_search,  # Number of parameter settings sampled\n",
    "                                   scoring='f1',  # Optimize for F1 score\n",
    "                                   cv=5,  # 5-fold cross-validation\n",
    "                                   verbose=0,  # Suppress verbose from RandomizedSearchCV\n",
    "                                   n_jobs=-1,  # Use all available cores\n",
    "                                   random_state=42,  # For reproducibility\n",
    "                                   return_train_score=False)\n",
    "\n",
    "# Define a function to fit RandomizedSearchCV with tqdm progress bar\n",
    "def fit_randomized_search_with_tqdm(random_search, X_train, y_train, tqdm_bar):\n",
    "    for _ in range(n_iter_search):\n",
    "        random_search.fit(X_train, y_train)\n",
    "        tqdm_bar.update(1)\n",
    "    tqdm_bar.close()\n",
    "    return random_search\n",
    "\n",
    "# Fit RandomizedSearchCV with progress tracking\n",
    "random_search = fit_randomized_search_with_tqdm(random_search, X_train, y_train, tqdm_bar)\n",
    "\n",
    "# Best model evaluation\n",
    "best_model = random_search.best_estimator_\n",
    "y_pred = best_model.predict(X_test)\n",
    "y_pred_proba = best_model.predict_proba(X_test)[:, 1]\n",
    "\n",
    "# Print evaluation metrics\n",
    "print(\"Best parameters found: \", random_search.best_params_)\n",
    "print(\"Classification report:\\n\", classification_report(y_test, y_pred))\n",
    "print(\"Accuracy: \", accuracy_score(y_test, y_pred))\n",
    "print(\"ROC AUC: \", roc_auc_score(y_test, y_pred_proba))"
   ]
  },
  {
   "cell_type": "code",
   "execution_count": 18,
   "metadata": {},
   "outputs": [
    {
     "data": {
      "image/png": "[encoded data removed]",
      "text/plain": [
       "<Figure size 640x480 with 1 Axes>"
      ]
     },
     "metadata": {},
     "output_type": "display_data"
    },
    {
     "name": "stdout",
     "output_type": "stream",
     "text": [
      "relative_summit_position: 0.04834069311618805\n",
      "summit: 0.052631888538599014\n",
      "mean_signal: 0.0810830295085907\n",
      "DHS_width: 0.08885423094034195\n",
      "total_accessibility: 0.10951288044452667\n",
      "peak_sharpness: 0.14458197355270386\n",
      "per_sample_signal_strength: 0.19157999753952026\n",
      "signal_variability: 0.2834153473377228\n"
     ]
    }
   ],
   "source": [
    "# Feature Importance Analysis\n",
    "feature_importances = best_model.named_steps['classifier'].feature_importances_\n",
    "\n",
    "# Get feature names after preprocessing\n",
    "all_features = numeric_features\n",
    "\n",
    "# Sort feature importances and corresponding feature names\n",
    "sorted_idx = np.argsort(feature_importances)\n",
    "sorted_features = np.array(all_features)[sorted_idx]\n",
    "sorted_importances = feature_importances[sorted_idx]\n",
    "\n",
    "# Plotting feature importances\n",
    "plt.figure()\n",
    "plt.barh(sorted_features, sorted_importances, color='skyblue')\n",
    "plt.xlabel('Feature Importance')\n",
    "plt.title('Feature Importances for XGBoost Model')\n",
    "plt.show()\n",
    "\n",
    "# Print the feature importances\n",
    "for feature, importance in zip(sorted_features, sorted_importances):\n",
    "    print(f'{feature}: {importance}')"
   ]
  }
 ],
 "metadata": {
  "kernelspec": {
   "display_name": "generic",
   "language": "python",
   "name": "python3"
  },
  "language_info": {
   "codemirror_mode": {
    "name": "ipython",
    "version": 3
   },
   "file_extension": ".py",
   "mimetype": "text/x-python",
   "name": "python",
   "nbconvert_exporter": "python",
   "pygments_lexer": "ipython3",
   "version": "3.11.9"
  }
 },
 "nbformat": 4,
 "nbformat_minor": 2
}
